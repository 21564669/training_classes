{
 "cells": [
  {
   "cell_type": "markdown",
   "metadata": {},
   "source": [
    "列表：\n",
    "\n",
    "创建"
   ]
  },
  {
   "cell_type": "code",
   "execution_count": 1,
   "metadata": {},
   "outputs": [
    {
     "name": "stdout",
     "output_type": "stream",
     "text": [
      "[] <class 'list'>\n"
     ]
    }
   ],
   "source": [
    "my_list = []\n",
    "print(my_list, type(my_list))"
   ]
  },
  {
   "cell_type": "code",
   "execution_count": 2,
   "metadata": {},
   "outputs": [
    {
     "name": "stdout",
     "output_type": "stream",
     "text": [
      "[True, 1, 0.1, [], '', (), set(), {}, <class 'object'>]\n"
     ]
    }
   ],
   "source": [
    "my_list = [True, 1, 0.1, [], \"\", (), set(), {}, object]\n",
    "print(my_list)"
   ]
  },
  {
   "cell_type": "code",
   "execution_count": 3,
   "metadata": {},
   "outputs": [
    {
     "data": {
      "text/plain": [
       "[1, 2, 3, 4, 5, 6, 7, 8, 9, 10]"
      ]
     },
     "execution_count": 3,
     "metadata": {},
     "output_type": "execute_result"
    }
   ],
   "source": [
    "my_list = [i for i in range(1, 11)]\n",
    "my_list"
   ]
  },
  {
   "cell_type": "code",
   "execution_count": 5,
   "metadata": {},
   "outputs": [
    {
     "data": {
      "text/plain": [
       "[1, 2, 3, 4, 5, 6, 7, 8, 9, 10]"
      ]
     },
     "execution_count": 5,
     "metadata": {},
     "output_type": "execute_result"
    }
   ],
   "source": [
    "my_list = [i + 1 for i in range(10)]\n",
    "my_list"
   ]
  },
  {
   "cell_type": "code",
   "execution_count": 7,
   "metadata": {},
   "outputs": [
    {
     "data": {
      "text/plain": [
       "[6, 6, 8, 1, 2, 5, 7, 3, 7, 10, 10, 5, 9, 9, 10, 10, 5, 4, 9, 9]"
      ]
     },
     "execution_count": 7,
     "metadata": {},
     "output_type": "execute_result"
    }
   ],
   "source": [
    "import random\n",
    "my_list = [random.randint(1, 10) for i in range(20)]\n",
    "my_list"
   ]
  },
  {
   "cell_type": "code",
   "execution_count": 10,
   "metadata": {},
   "outputs": [
    {
     "name": "stdout",
     "output_type": "stream",
     "text": [
      "[1, 2] [1, 2]\n",
      "2737138253184 2737138253184\n"
     ]
    }
   ],
   "source": [
    "a = [1, 2]\n",
    "b = a\n",
    "print(a, b)\n",
    "print(id(a), id(b))"
   ]
  },
  {
   "cell_type": "code",
   "execution_count": 26,
   "metadata": {},
   "outputs": [
    {
     "name": "stdout",
     "output_type": "stream",
     "text": [
      "[1, 2, 3, 4, 5, 6, 7, 8, 9, 10]\n"
     ]
    }
   ],
   "source": [
    "my_list = list(range(1, 11))\n",
    "print(my_list)"
   ]
  },
  {
   "cell_type": "code",
   "execution_count": 33,
   "metadata": {},
   "outputs": [
    {
     "ename": "IndexError",
     "evalue": "list index out of range",
     "output_type": "error",
     "traceback": [
      "\u001b[1;31m---------------------------------------------------------------------------\u001b[0m",
      "\u001b[1;31mIndexError\u001b[0m                                Traceback (most recent call last)",
      "Cell \u001b[1;32mIn[33], line 1\u001b[0m\n\u001b[1;32m----> 1\u001b[0m my_list[\u001b[39m-\u001b[39;49m\u001b[39m11\u001b[39;49m]\n",
      "\u001b[1;31mIndexError\u001b[0m: list index out of range"
     ]
    }
   ],
   "source": [
    "my_list[-11]"
   ]
  },
  {
   "cell_type": "code",
   "execution_count": 34,
   "metadata": {},
   "outputs": [
    {
     "data": {
      "text/plain": [
       "[6, 2, 5, 4, 1, 2, 7, 1, 9, 1]"
      ]
     },
     "execution_count": 34,
     "metadata": {},
     "output_type": "execute_result"
    }
   ],
   "source": [
    "import random\n",
    "my_list = [random.randint(1, 10) for i in range(10)]\n",
    "my_list"
   ]
  },
  {
   "cell_type": "code",
   "execution_count": 35,
   "metadata": {},
   "outputs": [
    {
     "data": {
      "text/plain": [
       "[6, 2, 5, 4, 1, 2, 7, 1, 9, 1, 11]"
      ]
     },
     "execution_count": 35,
     "metadata": {},
     "output_type": "execute_result"
    }
   ],
   "source": [
    "my_list.append(11)\n",
    "my_list"
   ]
  },
  {
   "cell_type": "code",
   "execution_count": 38,
   "metadata": {},
   "outputs": [
    {
     "ename": "IndexError",
     "evalue": "pop index out of range",
     "output_type": "error",
     "traceback": [
      "\u001b[1;31m---------------------------------------------------------------------------\u001b[0m",
      "\u001b[1;31mIndexError\u001b[0m                                Traceback (most recent call last)",
      "Cell \u001b[1;32mIn[38], line 2\u001b[0m\n\u001b[0;32m      1\u001b[0m \u001b[39m# pop, remove\u001b[39;00m\n\u001b[1;32m----> 2\u001b[0m t \u001b[39m=\u001b[39m my_list\u001b[39m.\u001b[39;49mpop(\u001b[39m9\u001b[39;49m)\n\u001b[0;32m      3\u001b[0m \u001b[39mprint\u001b[39m(t, my_list)\n",
      "\u001b[1;31mIndexError\u001b[0m: pop index out of range"
     ]
    }
   ],
   "source": [
    "# pop, remove\n",
    "t = my_list.pop(9)\n",
    "print(t, my_list)"
   ]
  },
  {
   "cell_type": "code",
   "execution_count": 40,
   "metadata": {},
   "outputs": [
    {
     "name": "stdout",
     "output_type": "stream",
     "text": [
      "[5, 4, 1, 2, 7, 1, 9, 1]\n"
     ]
    },
    {
     "ename": "ValueError",
     "evalue": "list.remove(x): x not in list",
     "output_type": "error",
     "traceback": [
      "\u001b[1;31m---------------------------------------------------------------------------\u001b[0m",
      "\u001b[1;31mValueError\u001b[0m                                Traceback (most recent call last)",
      "Cell \u001b[1;32mIn[40], line 2\u001b[0m\n\u001b[0;32m      1\u001b[0m \u001b[39mprint\u001b[39m(my_list)\n\u001b[1;32m----> 2\u001b[0m my_list\u001b[39m.\u001b[39;49mremove(\u001b[39m10\u001b[39;49m)\n\u001b[0;32m      3\u001b[0m \u001b[39mprint\u001b[39m(my_list)\n",
      "\u001b[1;31mValueError\u001b[0m: list.remove(x): x not in list"
     ]
    }
   ],
   "source": [
    "print(my_list)\n",
    "my_list.remove(10)\n",
    "print(my_list)"
   ]
  },
  {
   "cell_type": "markdown",
   "metadata": {},
   "source": [
    "切片"
   ]
  },
  {
   "cell_type": "code",
   "execution_count": 1,
   "metadata": {},
   "outputs": [
    {
     "data": {
      "text/plain": [
       "[0, 1, 2, 3, 4, 5, 6, 7, 8, 9]"
      ]
     },
     "execution_count": 1,
     "metadata": {},
     "output_type": "execute_result"
    }
   ],
   "source": [
    "my_list = list(range(10))\n",
    "my_list"
   ]
  },
  {
   "cell_type": "code",
   "execution_count": 2,
   "metadata": {},
   "outputs": [
    {
     "data": {
      "text/plain": [
       "[0, 1, 2, 3, 4]"
      ]
     },
     "execution_count": 2,
     "metadata": {},
     "output_type": "execute_result"
    }
   ],
   "source": [
    "my_list[:5]"
   ]
  },
  {
   "cell_type": "code",
   "execution_count": 3,
   "metadata": {},
   "outputs": [
    {
     "name": "stdout",
     "output_type": "stream",
     "text": [
      "[0, 1, 2, 3, 4] [5, 6, 7, 8, 9]\n"
     ]
    }
   ],
   "source": [
    "cut_index = 5\n",
    "my_list1 = my_list[:cut_index]\n",
    "my_list2 = my_list[cut_index:]\n",
    "print(my_list1, my_list2)"
   ]
  },
  {
   "cell_type": "code",
   "execution_count": 5,
   "metadata": {},
   "outputs": [
    {
     "name": "stdout",
     "output_type": "stream",
     "text": [
      "[0, 1, 2, 3, 4, 5, 6, 7, 8, 9]\n",
      "1766908698496 1766908792704\n"
     ]
    }
   ],
   "source": [
    "my_list3 = my_list[:]\n",
    "print(my_list3)\n",
    "print(id(my_list3), id(my_list))"
   ]
  },
  {
   "cell_type": "markdown",
   "metadata": {},
   "source": [
    "遍历"
   ]
  },
  {
   "cell_type": "code",
   "execution_count": 6,
   "metadata": {},
   "outputs": [],
   "source": [
    "# 元素\n",
    "# 索引"
   ]
  },
  {
   "cell_type": "code",
   "execution_count": 7,
   "metadata": {},
   "outputs": [
    {
     "name": "stdout",
     "output_type": "stream",
     "text": [
      "0\n",
      "1\n",
      "2\n",
      "3\n",
      "4\n",
      "5\n",
      "6\n",
      "7\n",
      "8\n",
      "9\n"
     ]
    }
   ],
   "source": [
    "for i in my_list:\n",
    "    print(i)\n",
    "  "
   ]
  },
  {
   "cell_type": "code",
   "execution_count": 9,
   "metadata": {},
   "outputs": [
    {
     "name": "stdout",
     "output_type": "stream",
     "text": [
      "0\n",
      "1\n",
      "2\n",
      "3\n",
      "4\n",
      "5\n",
      "6\n",
      "7\n",
      "8\n",
      "9\n"
     ]
    }
   ],
   "source": [
    "for i in range(len(my_list)):\n",
    "    print(my_list[i])"
   ]
  },
  {
   "cell_type": "markdown",
   "metadata": {},
   "source": [
    "练习："
   ]
  },
  {
   "cell_type": "code",
   "execution_count": 2,
   "metadata": {},
   "outputs": [
    {
     "data": {
      "text/plain": [
       "[-10, 5, -10, -4, -9, 6, -10, 8, 8, -7]"
      ]
     },
     "execution_count": 2,
     "metadata": {},
     "output_type": "execute_result"
    }
   ],
   "source": [
    "import random\n",
    "my_list = [random.randint(-10, 10) for i in range(10)]\n",
    "my_list"
   ]
  },
  {
   "cell_type": "markdown",
   "metadata": {},
   "source": [
    "1. 修改列表元素的值\n"
   ]
  },
  {
   "cell_type": "code",
   "execution_count": 4,
   "metadata": {},
   "outputs": [
    {
     "name": "stdout",
     "output_type": "stream",
     "text": [
      "[10, 5, -10, -4, -9, 6, -10, 8, 8, -7]\n"
     ]
    }
   ],
   "source": [
    "p1 = my_list[:]\n",
    "p1[0] = 10\n",
    "print(p1)"
   ]
  },
  {
   "cell_type": "markdown",
   "metadata": {},
   "source": [
    "2. 对列表元素进行2次方操作，并生成一个新的列表\n"
   ]
  },
  {
   "cell_type": "code",
   "execution_count": 5,
   "metadata": {},
   "outputs": [
    {
     "name": "stdout",
     "output_type": "stream",
     "text": [
      "[100, 25, 100, 16, 81, 36, 100, 64, 64, 49]\n"
     ]
    }
   ],
   "source": [
    "p2 = my_list[:]\n",
    "new_list = []\n",
    "for item in p2:\n",
    "    new_list.append(item ** 2)\n",
    "print(new_list)"
   ]
  },
  {
   "cell_type": "code",
   "execution_count": 6,
   "metadata": {},
   "outputs": [
    {
     "name": "stdout",
     "output_type": "stream",
     "text": [
      "[100, 25, 100, 16, 81, 36, 100, 64, 64, 49]\n"
     ]
    }
   ],
   "source": [
    "new_list = [ item ** 2 for item in p2]\n",
    "print(new_list)"
   ]
  },
  {
   "cell_type": "markdown",
   "metadata": {},
   "source": [
    "3. 删除列表中第一个偶数。\n"
   ]
  },
  {
   "cell_type": "code",
   "execution_count": 8,
   "metadata": {},
   "outputs": [
    {
     "name": "stdout",
     "output_type": "stream",
     "text": [
      "[-10, 5, -10, -4, -9, 6, -10, 8, 8, -7]\n",
      "-10\n",
      "[5, -10, -4, -9, 6, -10, 8, 8, -7]\n"
     ]
    }
   ],
   "source": [
    "p3 = my_list[:]\n",
    "print(p3)\n",
    "for item in p3:\n",
    "    if item % 2 == 0:\n",
    "        p3.remove(item)\n",
    "        print(item)\n",
    "        break\n",
    "\n",
    "print(p3)\n"
   ]
  },
  {
   "cell_type": "markdown",
   "metadata": {},
   "source": [
    "4. 找出列表中的最大值 和最小值\n"
   ]
  },
  {
   "cell_type": "code",
   "execution_count": 9,
   "metadata": {},
   "outputs": [
    {
     "name": "stdout",
     "output_type": "stream",
     "text": [
      "[-10, 5, -10, -4, -9, 6, -10, 8, 8, -7]\n",
      "8 -10\n"
     ]
    }
   ],
   "source": [
    "max_value = 0\n",
    "min_value = 0\n",
    "p4 = my_list[:]\n",
    "print(p4)\n",
    "for item in p4:\n",
    "    if item > max_value:\n",
    "        max_value = item\n",
    "    if item < min_value:\n",
    "        min_value = item\n",
    "\n",
    "print(max_value, min_value)"
   ]
  },
  {
   "cell_type": "markdown",
   "metadata": {},
   "source": [
    "5. 求列表中的数字的加和\n"
   ]
  },
  {
   "cell_type": "code",
   "execution_count": 10,
   "metadata": {},
   "outputs": [
    {
     "name": "stdout",
     "output_type": "stream",
     "text": [
      "[-10, 5, -10, -4, -9, 6, -10, 8, 8, -7]\n",
      "-23\n"
     ]
    }
   ],
   "source": [
    "p5 = my_list[:]\n",
    "print(p5)\n",
    "sum = 0\n",
    "for item in p5:\n",
    "    sum += item\n",
    "\n",
    "print(sum)"
   ]
  },
  {
   "cell_type": "markdown",
   "metadata": {},
   "source": [
    "6. 统计列表中正数和负数的个数。\n"
   ]
  },
  {
   "cell_type": "code",
   "execution_count": 12,
   "metadata": {},
   "outputs": [
    {
     "name": "stdout",
     "output_type": "stream",
     "text": [
      "[-10, 5, -10, -4, -9, 6, -10, 8, 8, -7]\n",
      "4 6\n"
     ]
    }
   ],
   "source": [
    "pn = 0\n",
    "nn = 0\n",
    "p6 = my_list[:]\n",
    "print(p6)\n",
    "for item in p6:\n",
    "    if item > 0:\n",
    "        pn += 1\n",
    "    elif item < 0:\n",
    "        nn += 1\n",
    "\n",
    "print(pn, nn)"
   ]
  },
  {
   "cell_type": "markdown",
   "metadata": {},
   "source": [
    "7. 实现队列\n"
   ]
  },
  {
   "cell_type": "code",
   "execution_count": 13,
   "metadata": {},
   "outputs": [
    {
     "name": "stdout",
     "output_type": "stream",
     "text": [
      "[-10, 5, -10, -4, -9, 6, -10, 8, 8, -7, 20, 30]\n",
      "-10\n",
      "5\n",
      "-10\n",
      "-4\n",
      "-9\n",
      "6\n",
      "-10\n",
      "8\n",
      "8\n",
      "-7\n",
      "20\n",
      "30\n",
      "[]\n"
     ]
    }
   ],
   "source": [
    "# FIFO\n",
    "p7 = my_list[:]\n",
    "p7.append(20)\n",
    "p7.append(30)\n",
    "print(p7)\n",
    "# pop()\n",
    "while len(p7) != 0:\n",
    "    t = p7.pop(0)\n",
    "    print(t)\n",
    "\n",
    "print(p7)"
   ]
  },
  {
   "cell_type": "markdown",
   "metadata": {},
   "source": [
    "8. 实现堆栈\n"
   ]
  },
  {
   "cell_type": "code",
   "execution_count": 14,
   "metadata": {},
   "outputs": [
    {
     "name": "stdout",
     "output_type": "stream",
     "text": [
      "[-10, 5, -10, -4, -9, 6, -10, 8, 8, -7, 20, 30]\n",
      "30\n",
      "20\n",
      "-7\n",
      "8\n",
      "8\n",
      "-10\n",
      "6\n",
      "-9\n",
      "-4\n",
      "-10\n",
      "5\n",
      "-10\n",
      "[]\n"
     ]
    }
   ],
   "source": [
    "# FILO\n",
    "p8 = my_list[:]\n",
    "p8.append(20)\n",
    "p8.append(30)\n",
    "print(p8)\n",
    "\n",
    "while len(p8) != 0:\n",
    "    t = p8.pop()\n",
    "    print(t)\n",
    "\n",
    "print(p8)"
   ]
  },
  {
   "cell_type": "markdown",
   "metadata": {},
   "source": [
    "9. 删除重复数字，只删除一个。\n"
   ]
  },
  {
   "cell_type": "code",
   "execution_count": 17,
   "metadata": {},
   "outputs": [
    {
     "name": "stdout",
     "output_type": "stream",
     "text": [
      "[-10, 5, -10, -4, -9, 6, -10, 8, 8, -7]\n"
     ]
    }
   ],
   "source": [
    "p9 = my_list[:]\n",
    "print(p9)\n"
   ]
  },
  {
   "cell_type": "code",
   "execution_count": 18,
   "metadata": {},
   "outputs": [
    {
     "name": "stdout",
     "output_type": "stream",
     "text": [
      "[-10, 5, -10, -4, -9, 6, -10, 8, 8, -7]\n",
      "[5, -10, -4, -9, 6, -10, 8, -7]\n"
     ]
    }
   ],
   "source": [
    "del_list = []\n",
    "final_list = []\n",
    "for index in range(len(p9)):\n",
    "    if p9[index] in p9[index + 1:]:\n",
    "        if p9[index] in del_list:\n",
    "            final_list.append(p9[index])\n",
    "        else:\n",
    "            del_list.append(p9[index])\n",
    "    else:\n",
    "        final_list.append(p9[index])\n",
    "\n",
    "print(p9)\n",
    "print(final_list)"
   ]
  }
 ],
 "metadata": {
  "kernelspec": {
   "display_name": "Python 3",
   "language": "python",
   "name": "python3"
  },
  "language_info": {
   "codemirror_mode": {
    "name": "ipython",
    "version": 3
   },
   "file_extension": ".py",
   "mimetype": "text/x-python",
   "name": "python",
   "nbconvert_exporter": "python",
   "pygments_lexer": "ipython3",
   "version": "3.11.4"
  },
  "orig_nbformat": 4
 },
 "nbformat": 4,
 "nbformat_minor": 2
}
