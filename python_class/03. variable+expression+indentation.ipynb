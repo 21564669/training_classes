{
 "cells": [
  {
   "attachments": {},
   "cell_type": "markdown",
   "metadata": {},
   "source": [
    "变量(variable)：\n",
    "\n",
    "变量是用于存储数据值的名称。它们在程序中被用来表示和引用数据。变量可以存储不同类型的数据，如整数、浮点数、字符串等。\n",
    "\n",
    "变量在使用之前需要进行声明或赋值操作，即给变量分配一个初始值。通过使用变量名，我们可以在程序中引用和操作存储在变量中的值。"
   ]
  },
  {
   "cell_type": "code",
   "execution_count": 1,
   "metadata": {},
   "outputs": [
    {
     "name": "stdout",
     "output_type": "stream",
     "text": [
      "1 0.1 hello [1, 0.1, 'hello']\n"
     ]
    }
   ],
   "source": [
    "a = 1\n",
    "b = 0.1\n",
    "c = \"hello\"\n",
    "d = [a, b, c]\n",
    "print(a, b, c, d)"
   ]
  },
  {
   "attachments": {},
   "cell_type": "markdown",
   "metadata": {},
   "source": [
    "表达式(expression):\n",
    "\n",
    "表达式是由变量、运算符和常量组成的代码片段，用于计算并生成一个值。\n",
    "\n",
    "表达式可以包含数学运算、逻辑运算和其他操作符。\n",
    "\n",
    "表达式的结果可以被赋值给变量，也可以用于条件判断、循环控制和其他计算需求。\n",
    "\n",
    " "
   ]
  },
  {
   "cell_type": "code",
   "execution_count": 2,
   "metadata": {},
   "outputs": [
    {
     "name": "stdout",
     "output_type": "stream",
     "text": [
      "3 1.1\n"
     ]
    }
   ],
   "source": [
    "e = len(d)\n",
    "f = a + b\n",
    "print(e, f)"
   ]
  },
  {
   "attachments": {},
   "cell_type": "markdown",
   "metadata": {},
   "source": [
    "缩进（indentation）：\n",
    "\n",
    "缩进是语法的一部分，它用于表示代码的层次结构和逻辑关系。Python使用缩进来区分代码块，而不是使用大括号或其他分隔符。"
   ]
  },
  {
   "cell_type": "code",
   "execution_count": 9,
   "metadata": {},
   "outputs": [
    {
     "name": "stdout",
     "output_type": "stream",
     "text": [
      "0 is even.\n",
      "\n",
      "1 is odd.\n",
      "2 is even.\n",
      "\n",
      "3 is odd.\n",
      "4 is even.\n",
      "\n",
      "5 is odd.\n",
      "6 is even.\n",
      "\n",
      "7 is odd.\n",
      "8 is even.\n",
      "\n",
      "9 is odd.\n"
     ]
    }
   ],
   "source": [
    "for i in range(10):\n",
    "    if i % 2 == 0:\n",
    "        print(f\"{i} is even.\")  # 缩进表示属于条件为真时要执行的语句\n",
    "        print()                 # 同样的缩进级别，属于同一代码块\n",
    "    else:\n",
    "        print(f\"{i} is odd.\")   # 另一个缩进级别，属于不同的代码块\n"
   ]
  }
 ],
 "metadata": {
  "kernelspec": {
   "display_name": "Python 3",
   "language": "python",
   "name": "python3"
  },
  "language_info": {
   "codemirror_mode": {
    "name": "ipython",
    "version": 3
   },
   "file_extension": ".py",
   "mimetype": "text/x-python",
   "name": "python",
   "nbconvert_exporter": "python",
   "pygments_lexer": "ipython3",
   "version": "3.11.4"
  },
  "orig_nbformat": 4
 },
 "nbformat": 4,
 "nbformat_minor": 2
}
