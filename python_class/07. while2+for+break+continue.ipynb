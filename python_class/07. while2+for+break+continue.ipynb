{
 "cells": [
  {
   "cell_type": "markdown",
   "metadata": {},
   "source": [
    "while, 循环控制(break, continue), for循环"
   ]
  },
  {
   "cell_type": "code",
   "execution_count": 4,
   "metadata": {},
   "outputs": [
    {
     "name": "stdout",
     "output_type": "stream",
     "text": [
      "Please input a number!!!\n",
      "Quit\n",
      "code after loop.\n"
     ]
    }
   ],
   "source": [
    "while True:\n",
    "    number = input(\"Please input a number:\")\n",
    "    if number == 'q':\n",
    "        print(\"Quit\")\n",
    "        break\n",
    "    if number.isalpha():\n",
    "        print(\"Please input a number!!!\")\n",
    "        continue\n",
    "    number = int(number)\n",
    "    if number > 0:\n",
    "        print(\"It is a positive number.\")\n",
    "    elif number < 0:\n",
    "        print(\"It is a negetive number.\")\n",
    "    else:\n",
    "        print(\"It is zero.\")\n",
    "print(\"code after loop.\")"
   ]
  },
  {
   "cell_type": "code",
   "execution_count": null,
   "metadata": {},
   "outputs": [],
   "source": [
    "for variable in interable:\n",
    "    code1\n",
    "code2"
   ]
  },
  {
   "cell_type": "code",
   "execution_count": 5,
   "metadata": {},
   "outputs": [
    {
     "name": "stdout",
     "output_type": "stream",
     "text": [
      "1\n",
      "2\n",
      "3\n",
      "4\n",
      "5\n",
      "6\n",
      "7\n",
      "8\n",
      "9\n",
      "10\n"
     ]
    }
   ],
   "source": [
    "for i in range(1, 11):\n",
    "    print(i)"
   ]
  },
  {
   "cell_type": "code",
   "execution_count": 6,
   "metadata": {},
   "outputs": [
    {
     "name": "stdout",
     "output_type": "stream",
     "text": [
      "5050\n"
     ]
    }
   ],
   "source": [
    "sum = 0\n",
    "for number in range(1, 101):\n",
    "    sum += number\n",
    "print(sum)"
   ]
  }
 ],
 "metadata": {
  "kernelspec": {
   "display_name": "Python 3",
   "language": "python",
   "name": "python3"
  },
  "language_info": {
   "codemirror_mode": {
    "name": "ipython",
    "version": 3
   },
   "file_extension": ".py",
   "mimetype": "text/x-python",
   "name": "python",
   "nbconvert_exporter": "python",
   "pygments_lexer": "ipython3",
   "version": "3.11.4"
  },
  "orig_nbformat": 4
 },
 "nbformat": 4,
 "nbformat_minor": 2
}
