{
 "cells": [
  {
   "cell_type": "markdown",
   "metadata": {},
   "source": [
    "目录遍历"
   ]
  },
  {
   "cell_type": "code",
   "execution_count": 2,
   "metadata": {},
   "outputs": [
    {
     "name": "stdout",
     "output_type": "stream",
     "text": [
      ".. ['.git', 'python_class'] ['README.md']\n",
      "..\\python_class [] ['02. hello.ipynb', '03. variable+expression+indentation.ipynb', '04.int+float+math_operators.ipynb', '05. boolean+comparison+bool_operations.ipynb', '06. if+elif+else+while.ipynb', '07. while2+for+break+continue.ipynb', '08. range.ipynb', '09. list.ipynb', '10. tuple.ipynb', '11.string.ipynb', '12. set.ipynb', '13.dict.ipynb', '14.function.ipynb', '15.file_operation.ipynb', '16.pickle.ipynb', '17.os.walk.ipynb', '99.Q&A.ipynb', 'file.txt', 'my_pickle.pk', 'python.jpeg', 'python1.jpeg', 'temp.txt', 'tmp.txt']\n"
     ]
    }
   ],
   "source": [
    "import os\n",
    "path = '..'\n",
    "for root, dirs, files in os.walk(path):\n",
    "    if 'git' not in root:\n",
    "        print(root, dirs, files)"
   ]
  }
 ],
 "metadata": {
  "kernelspec": {
   "display_name": "Python 3",
   "language": "python",
   "name": "python3"
  },
  "language_info": {
   "codemirror_mode": {
    "name": "ipython",
    "version": 3
   },
   "file_extension": ".py",
   "mimetype": "text/x-python",
   "name": "python",
   "nbconvert_exporter": "python",
   "pygments_lexer": "ipython3",
   "version": "3.11.4"
  },
  "orig_nbformat": 4
 },
 "nbformat": 4,
 "nbformat_minor": 2
}
