{
 "cells": [
  {
   "cell_type": "markdown",
   "metadata": {},
   "source": [
    "字典（Dictionary）"
   ]
  },
  {
   "cell_type": "code",
   "execution_count": 1,
   "metadata": {},
   "outputs": [
    {
     "name": "stdout",
     "output_type": "stream",
     "text": [
      "{'jack': 4098, 'sjoerd': 4127} <class 'dict'>\n",
      "{} <class 'dict'>\n"
     ]
    }
   ],
   "source": [
    "#key : value, key1: value1\n",
    "d = {'jack': 4098, 'sjoerd': 4127}\n",
    "print(d, type(d))\n",
    "d = {}\n",
    "print(d, type(d))"
   ]
  },
  {
   "cell_type": "code",
   "execution_count": 2,
   "metadata": {},
   "outputs": [
    {
     "name": "stdout",
     "output_type": "stream",
     "text": [
      "{0: 0, 1: 1, 2: 4, 3: 9, 4: 16, 5: 25, 6: 36, 7: 49, 8: 64, 9: 81} <class 'dict'>\n"
     ]
    }
   ],
   "source": [
    "d = {x: x ** 2 for x in range(10)}\n",
    "print(d, type(d))\n"
   ]
  },
  {
   "cell_type": "code",
   "execution_count": 3,
   "metadata": {},
   "outputs": [
    {
     "name": "stdout",
     "output_type": "stream",
     "text": [
      "{} <class 'dict'>\n",
      "{'jack': 4098, 'sjoerd': 4127} <class 'dict'>\n"
     ]
    }
   ],
   "source": [
    "d = dict()\n",
    "print(d, type(d))\n",
    "d = dict(jack=4098, sjoerd=4127)\n",
    "print(d, type(d))"
   ]
  },
  {
   "cell_type": "markdown",
   "metadata": {},
   "source": [
    "增删改查"
   ]
  },
  {
   "cell_type": "code",
   "execution_count": 4,
   "metadata": {},
   "outputs": [
    {
     "name": "stdout",
     "output_type": "stream",
     "text": [
      "{'jack': 4098, 'sjoerd': 4127}\n",
      "4098\n",
      "None\n"
     ]
    }
   ],
   "source": [
    "print(d)\n",
    "# print(d['jack'])\n",
    "print(d.get('jack'))\n",
    "print(d.get('richard'))\n",
    "# print(d['richard'])"
   ]
  },
  {
   "cell_type": "code",
   "execution_count": 5,
   "metadata": {},
   "outputs": [
    {
     "name": "stdout",
     "output_type": "stream",
     "text": [
      "{'jack': 4098, 'sjoerd': 4127, 'richard': 5000}\n",
      "5000\n"
     ]
    }
   ],
   "source": [
    "d['richard'] = 5000\n",
    "print(d)\n",
    "print(d['richard'])"
   ]
  },
  {
   "cell_type": "code",
   "execution_count": 6,
   "metadata": {},
   "outputs": [
    {
     "name": "stdout",
     "output_type": "stream",
     "text": [
      "{'jack': 4098, 'sjoerd': 4127, 'richard': 4000}\n"
     ]
    }
   ],
   "source": [
    "d['richard'] = 4000\n",
    "print(d)"
   ]
  },
  {
   "cell_type": "code",
   "execution_count": 7,
   "metadata": {},
   "outputs": [
    {
     "name": "stdout",
     "output_type": "stream",
     "text": [
      "4000 {'jack': 4098, 'sjoerd': 4127}\n"
     ]
    }
   ],
   "source": [
    "t = d.pop('richard')\n",
    "print(t, d)"
   ]
  },
  {
   "cell_type": "markdown",
   "metadata": {},
   "source": [
    "遍历"
   ]
  },
  {
   "cell_type": "code",
   "execution_count": 9,
   "metadata": {},
   "outputs": [
    {
     "name": "stdout",
     "output_type": "stream",
     "text": [
      "dict_keys(['jack', 'sjoerd'])\n",
      "jack\n",
      "sjoerd\n"
     ]
    }
   ],
   "source": [
    "print(d.keys())\n",
    "for key in d.keys():\n",
    "    print(key)"
   ]
  },
  {
   "cell_type": "code",
   "execution_count": 11,
   "metadata": {},
   "outputs": [
    {
     "name": "stdout",
     "output_type": "stream",
     "text": [
      "dict_values([4098, 4127])\n",
      "4098\n",
      "4127\n"
     ]
    }
   ],
   "source": [
    "print(d.values())\n",
    "for value in d.values():\n",
    "    print(value)"
   ]
  },
  {
   "cell_type": "code",
   "execution_count": 12,
   "metadata": {},
   "outputs": [
    {
     "name": "stdout",
     "output_type": "stream",
     "text": [
      "dict_keys(['jack', 'sjoerd'])\n",
      "jack 4098\n",
      "sjoerd 4127\n"
     ]
    }
   ],
   "source": [
    "print(d.keys())\n",
    "for key in d.keys():\n",
    "    print(key, d[key])"
   ]
  },
  {
   "cell_type": "code",
   "execution_count": 14,
   "metadata": {},
   "outputs": [
    {
     "name": "stdout",
     "output_type": "stream",
     "text": [
      "dict_items([('jack', 4098), ('sjoerd', 4127)])\n",
      "jack 4098\n",
      "sjoerd 4127\n"
     ]
    }
   ],
   "source": [
    "print(d.items())\n",
    "for key, value in d.items():\n",
    "    print(key, value)"
   ]
  },
  {
   "cell_type": "markdown",
   "metadata": {},
   "source": [
    "1. 创建两个字典A和B，把它们合并成一个新的字典。\n"
   ]
  },
  {
   "cell_type": "code",
   "execution_count": 1,
   "metadata": {},
   "outputs": [
    {
     "name": "stdout",
     "output_type": "stream",
     "text": [
      "{'a': 1, 'b': 2, 'c': 3, 'd': 4}\n"
     ]
    }
   ],
   "source": [
    "da = {\"a\": 1, \"b\": 2}\n",
    "db = {\"c\": 3, \"d\": 4}\n",
    "merge_d = {}\n",
    "for k, v in da.items():\n",
    "    merge_d[k] = v\n",
    "\n",
    "for k, v in db.items():\n",
    "    merge_d[k] = v\n",
    "\n",
    "print(merge_d)\n"
   ]
  },
  {
   "cell_type": "markdown",
   "metadata": {},
   "source": [
    "2. 将字典里所有的value+1，生成一个新的字典\n"
   ]
  },
  {
   "cell_type": "code",
   "execution_count": 3,
   "metadata": {},
   "outputs": [
    {
     "name": "stdout",
     "output_type": "stream",
     "text": [
      "{'a': 2, 'b': 3}\n"
     ]
    }
   ],
   "source": [
    "da = {\"a\": 1, \"b\": 2}\n",
    "da_1 = {k: v + 1 for k, v in da.items()}\n",
    "# for k, v in da.items():\n",
    "#     da_1[k] = v + 1\n",
    "\n",
    "print(da_1)"
   ]
  },
  {
   "cell_type": "markdown",
   "metadata": {},
   "source": [
    "3. 创建一个包含多个学生信息的列表（每个学生是一个字典），使用for循环遍历并打印出所有 学生的姓名和年龄\n"
   ]
  },
  {
   "cell_type": "code",
   "execution_count": 4,
   "metadata": {},
   "outputs": [
    {
     "name": "stdout",
     "output_type": "stream",
     "text": [
      "Alice 25\n",
      "Bob 22\n",
      "Charlie 27\n"
     ]
    }
   ],
   "source": [
    "students_list = [\n",
    "    {\"name\": \"Alice\", \"age\": 25},\n",
    "    {\"name\": \"Bob\", \"age\": 22},\n",
    "    {\"name\": \"Charlie\", \"age\": 27}\n",
    "]\n",
    "\n",
    "for student in students_list:\n",
    "    print(student['name'], student['age'])\n"
   ]
  },
  {
   "cell_type": "markdown",
   "metadata": {},
   "source": [
    "4. 创建一个字典，包含水果名称和对应库存数量，然后统计所有水果的总库存量。\n"
   ]
  },
  {
   "cell_type": "code",
   "execution_count": 5,
   "metadata": {},
   "outputs": [
    {
     "name": "stdout",
     "output_type": "stream",
     "text": [
      "45\n"
     ]
    }
   ],
   "source": [
    "inventory = {\"apple\": 10, \"banana\": 20, \"orange\": 15}\n",
    "sum = 0\n",
    "for value in inventory.values():\n",
    "    sum += value\n",
    "\n",
    "print(sum)"
   ]
  },
  {
   "cell_type": "markdown",
   "metadata": {},
   "source": [
    "5. 创建两个字典A和B，找出A中存在但B中不存在的键，并打印结果。\n"
   ]
  },
  {
   "cell_type": "code",
   "execution_count": 7,
   "metadata": {},
   "outputs": [
    {
     "name": "stdout",
     "output_type": "stream",
     "text": [
      "{0: 0, 1: 1, 2: 4, 3: 9, 4: 16, 5: 25, 6: 36, 7: 49, 8: 64, 9: 81}\n",
      "{5: 5, 6: 6, 7: 7, 8: 8, 9: 9, 10: 10, 11: 11, 12: 12, 13: 13, 14: 14}\n",
      "0\n",
      "1\n",
      "2\n",
      "3\n",
      "4\n"
     ]
    }
   ],
   "source": [
    "da = {x:x**2 for x in range(10)}\n",
    "db = {x:x for x in range(5, 15)}\n",
    "print(da)\n",
    "print(db)\n",
    "\n",
    "for key in da.keys():\n",
    "    if key not in db.keys():\n",
    "        print(key)\n"
   ]
  },
  {
   "cell_type": "markdown",
   "metadata": {},
   "source": [
    "6. 把字典里的键值对互换\n"
   ]
  },
  {
   "cell_type": "code",
   "execution_count": 10,
   "metadata": {},
   "outputs": [
    {
     "name": "stdout",
     "output_type": "stream",
     "text": [
      "{0: 0, 1: 1, 2: 4, 3: 9, 4: 16, 5: 25, 6: 36, 7: 49, 8: 64, 9: 81}\n",
      "{0: 0, 1: 1, 4: 2, 9: 3, 16: 4, 25: 5, 36: 6, 49: 7, 64: 8, 81: 9}\n"
     ]
    }
   ],
   "source": [
    "print(da)\n",
    "da_1 = { v:k for k, v in da.items()}\n",
    "\n",
    "# for k, v in da.items():\n",
    "#     da_1[v] = k\n",
    "\n",
    "print(da_1)"
   ]
  },
  {
   "cell_type": "markdown",
   "metadata": {},
   "source": [
    "7. 把字典里的键值转换成字符串打印出来，用逗号分隔\n"
   ]
  },
  {
   "cell_type": "code",
   "execution_count": 14,
   "metadata": {},
   "outputs": [
    {
     "name": "stdout",
     "output_type": "stream",
     "text": [
      "apple,banana,orange\n"
     ]
    }
   ],
   "source": [
    "inventory = {\"apple\": 10, \"banana\": 20, \"orange\": 15}\n",
    "keys_str = ','.join(inventory.keys())\n",
    "print(keys_str)"
   ]
  },
  {
   "cell_type": "markdown",
   "metadata": {},
   "source": [
    "8. 创建一个字典，表示学生和对应的成绩，找出及格（成绩大于等于60）的学生并打印出来。\n"
   ]
  },
  {
   "cell_type": "code",
   "execution_count": 15,
   "metadata": {},
   "outputs": [
    {
     "name": "stdout",
     "output_type": "stream",
     "text": [
      "Alice 70\n",
      "Bob 85\n",
      "David 62\n",
      "Eva 80\n"
     ]
    }
   ],
   "source": [
    "students = {\"Alice\": 70, \"Bob\": 85, \"Carol\": 55, \"David\": 62, \"Eva\": 80}\n",
    "for k, v in students.items():\n",
    "    if v >= 60:\n",
    "        print(k, v)\n",
    "\n"
   ]
  },
  {
   "cell_type": "markdown",
   "metadata": {},
   "source": [
    "9. 创建一个字典，表示商品和对应的价格，使用input函数实现用户输入商品名称并打印对应的价格。\n"
   ]
  },
  {
   "cell_type": "code",
   "execution_count": 19,
   "metadata": {},
   "outputs": [
    {
     "name": "stdout",
     "output_type": "stream",
     "text": [
      "The price of apple is 1.5\n"
     ]
    }
   ],
   "source": [
    "codeproducts = {\"apple\": 1.5, \"banana\": 2.0, \"orange\": 1.0, \"grape\": 3.0, \"watermelon\": 5.0}\n",
    "\n",
    "product_name = input(\"enter the product name:\")\n",
    "if product_name.lower() in codeproducts.keys():\n",
    "    print(f\"The price of {product_name.lower()} is {codeproducts[product_name.lower()]}\")\n",
    "else:\n",
    "    print(\"The product is not found\")"
   ]
  }
 ],
 "metadata": {
  "kernelspec": {
   "display_name": "Python 3",
   "language": "python",
   "name": "python3"
  },
  "language_info": {
   "codemirror_mode": {
    "name": "ipython",
    "version": 3
   },
   "file_extension": ".py",
   "mimetype": "text/x-python",
   "name": "python",
   "nbconvert_exporter": "python",
   "pygments_lexer": "ipython3",
   "version": "3.11.4"
  },
  "orig_nbformat": 4
 },
 "nbformat": 4,
 "nbformat_minor": 2
}
