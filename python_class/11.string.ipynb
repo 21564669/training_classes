{
 "cells": [
  {
   "cell_type": "markdown",
   "metadata": {},
   "source": [
    "字符串(string)"
   ]
  },
  {
   "cell_type": "code",
   "execution_count": 14,
   "metadata": {},
   "outputs": [
    {
     "name": "stdout",
     "output_type": "stream",
     "text": [
      "My name is Richard.\n"
     ]
    }
   ],
   "source": [
    "s = 'My name is Richard.'\n",
    "print(s)"
   ]
  },
  {
   "cell_type": "code",
   "execution_count": 15,
   "metadata": {},
   "outputs": [
    {
     "name": "stdout",
     "output_type": "stream",
     "text": [
      "My name is Richard.\n"
     ]
    }
   ],
   "source": [
    "s = \"My name is Richard.\"\n",
    "print(s)"
   ]
  },
  {
   "cell_type": "code",
   "execution_count": 16,
   "metadata": {},
   "outputs": [
    {
     "name": "stdout",
     "output_type": "stream",
     "text": [
      "My name is Richard.\n",
      "My name is Richard.\n"
     ]
    }
   ],
   "source": [
    "s = \"\"\"My name is Richard.\"\"\"\n",
    "print(s)\n",
    "s = '''My name is Richard.'''\n",
    "print(s)"
   ]
  },
  {
   "cell_type": "code",
   "execution_count": 18,
   "metadata": {},
   "outputs": [
    {
     "name": "stdout",
     "output_type": "stream",
     "text": [
      "Tom's coat is nice.\n"
     ]
    }
   ],
   "source": [
    "s = \"Tom's coat is nice.\"\n",
    "print(s)"
   ]
  },
  {
   "cell_type": "code",
   "execution_count": 19,
   "metadata": {},
   "outputs": [
    {
     "name": "stdout",
     "output_type": "stream",
     "text": [
      "She said \"I love you.\"\n"
     ]
    }
   ],
   "source": [
    "s = 'She said \"I love you.\"'\n",
    "print(s)"
   ]
  },
  {
   "cell_type": "code",
   "execution_count": 22,
   "metadata": {},
   "outputs": [
    {
     "name": "stdout",
     "output_type": "stream",
     "text": [
      "\n",
      "She said \n",
      "\"I love you.\"\n"
     ]
    }
   ],
   "source": [
    "s = '''\n",
    "She said \n",
    "\"I love you.\"'''\n",
    "print(s)"
   ]
  },
  {
   "cell_type": "markdown",
   "metadata": {},
   "source": [
    "格式化字符串"
   ]
  },
  {
   "cell_type": "code",
   "execution_count": 27,
   "metadata": {},
   "outputs": [
    {
     "name": "stdout",
     "output_type": "stream",
     "text": [
      "My name is Tom, and i am 20, and i will be 21 next year.\n"
     ]
    }
   ],
   "source": [
    "name = \"Tom\"\n",
    "age = 20\n",
    "s = f\"My name is {name}, and i am {age}, and i will be {age + 1} next year.\"\n",
    "print(s)"
   ]
  },
  {
   "cell_type": "code",
   "execution_count": 28,
   "metadata": {},
   "outputs": [
    {
     "name": "stdout",
     "output_type": "stream",
     "text": [
      "http://abc.com/page=1\n",
      "http://abc.com/page=2\n",
      "http://abc.com/page=3\n",
      "http://abc.com/page=4\n",
      "http://abc.com/page=5\n",
      "http://abc.com/page=6\n",
      "http://abc.com/page=7\n",
      "http://abc.com/page=8\n",
      "http://abc.com/page=9\n",
      "http://abc.com/page=10\n"
     ]
    }
   ],
   "source": [
    "for i in range(1, 11):\n",
    "    url = f\"http://abc.com/page={i}\"\n",
    "    print(url)\n"
   ]
  },
  {
   "cell_type": "code",
   "execution_count": 33,
   "metadata": {},
   "outputs": [
    {
     "name": "stdout",
     "output_type": "stream",
     "text": [
      "f\n"
     ]
    }
   ],
   "source": [
    "s = \"fdsa\"\n",
    "print(s[0])\n"
   ]
  },
  {
   "cell_type": "code",
   "execution_count": 34,
   "metadata": {},
   "outputs": [
    {
     "name": "stdout",
     "output_type": "stream",
     "text": [
      "f\n",
      "d\n",
      "s\n",
      "a\n"
     ]
    }
   ],
   "source": [
    "for i in s:\n",
    "    print(i)"
   ]
  },
  {
   "cell_type": "code",
   "execution_count": 35,
   "metadata": {},
   "outputs": [
    {
     "name": "stdout",
     "output_type": "stream",
     "text": [
      "f\n",
      "d\n",
      "s\n",
      "a\n"
     ]
    }
   ],
   "source": [
    "for i in range(len(s)):\n",
    "    print(s[i])"
   ]
  },
  {
   "cell_type": "code",
   "execution_count": 37,
   "metadata": {},
   "outputs": [
    {
     "name": "stdout",
     "output_type": "stream",
     "text": [
      "fds\n"
     ]
    }
   ],
   "source": [
    "print(s[:-1])"
   ]
  },
  {
   "cell_type": "markdown",
   "metadata": {},
   "source": [
    "replace(), split(), join()"
   ]
  },
  {
   "cell_type": "code",
   "execution_count": 24,
   "metadata": {},
   "outputs": [
    {
     "name": "stdout",
     "output_type": "stream",
     "text": [
      "My name is Richard.\n"
     ]
    }
   ],
   "source": [
    "s = \"My name is Richard.\"\n",
    "s = s.replace(\" \", \",\", 0)\n",
    "print(s)"
   ]
  },
  {
   "cell_type": "code",
   "execution_count": 29,
   "metadata": {},
   "outputs": [
    {
     "name": "stdout",
     "output_type": "stream",
     "text": [
      "My|name|is|Richard.\n",
      "['My', 'name', 'is', 'Richard.']\n"
     ]
    }
   ],
   "source": [
    "s = \"My name is Richard.\"\n",
    "s = s.replace(' ', '|')\n",
    "print(s)\n",
    "print(s.split(\"|\"))"
   ]
  },
  {
   "cell_type": "code",
   "execution_count": 32,
   "metadata": {},
   "outputs": [
    {
     "name": "stdout",
     "output_type": "stream",
     "text": [
      "My|name|is|Richard.\n",
      "['My', 'name', 'is', 'Richard.']\n",
      "My@name@is@Richard.\n"
     ]
    }
   ],
   "source": [
    "s = \"My name is Richard.\"\n",
    "s = s.replace(' ', '|')\n",
    "print(s)\n",
    "ml = s.split(\"|\")\n",
    "print(ml)\n",
    "print('@'.join(ml))"
   ]
  },
  {
   "cell_type": "markdown",
   "metadata": {},
   "source": [
    "1. 提取时间字符串（yyyy-mm-dd hh:mi:ss) 的所有数字，组成一个列表。\n"
   ]
  },
  {
   "cell_type": "code",
   "execution_count": 14,
   "metadata": {},
   "outputs": [
    {
     "name": "stdout",
     "output_type": "stream",
     "text": [
      "['2023', '07', '24', '18', '30', '33']\n"
     ]
    }
   ],
   "source": [
    "date = \"2023-07-24 18:30:33\"\n",
    "date = date.replace(' ', '-').replace(\":\", \"-\").split(\"-\")\n",
    "# date = date.replace(':', '-')\n",
    "# date = date.split('-')\n",
    "print(date)"
   ]
  },
  {
   "cell_type": "markdown",
   "metadata": {},
   "source": [
    "2. 输出20个相同的字符串。\n"
   ]
  },
  {
   "cell_type": "code",
   "execution_count": 19,
   "metadata": {},
   "outputs": [
    {
     "name": "stdout",
     "output_type": "stream",
     "text": [
      "aaaaaaaaaaaaaaaaaaaaaaaaaaaaaaaaaaaaaaaaaaaaaaaaaaaaaaaaaaaaaaaaaaaaaaaaaaaaaaaaaaaaaaaaaaaaaaaaaaaaaaaaaaaaaaaaaaaaaaaaaaaaaaaaaaaaaaaaaaaaaaaaaaaaaaaaaaaaaaaaaaaaaaaaaaaaaaaaaaaaaaaaaaaaaaaaaaaaaaaa\n"
     ]
    }
   ],
   "source": [
    "print(\"a\" * 200)"
   ]
  },
  {
   "cell_type": "markdown",
   "metadata": {},
   "source": [
    "3. 给一个字符串，要求：一、求它长度，二、逆序打印出字符串。"
   ]
  },
  {
   "cell_type": "code",
   "execution_count": 21,
   "metadata": {},
   "outputs": [
    {
     "name": "stdout",
     "output_type": "stream",
     "text": [
      "4\n",
      "a\n",
      "s\n",
      "d\n",
      "f\n"
     ]
    }
   ],
   "source": [
    "s = \"fdsa\"\n",
    "print(len(s))\n",
    "\n",
    "for i in range(len(s) - 1, -1, -1):\n",
    "    print(s[i])"
   ]
  },
  {
   "cell_type": "markdown",
   "metadata": {},
   "source": [
    "4. 题目：一个5位数，判断它是不是回文数。即12321是回文数，个位与万位相同，十位与千位相同。"
   ]
  },
  {
   "cell_type": "code",
   "execution_count": 23,
   "metadata": {},
   "outputs": [
    {
     "name": "stdout",
     "output_type": "stream",
     "text": [
      "12331不是回文数\n"
     ]
    }
   ],
   "source": [
    "s = \"12331\"\n",
    "if s[4] == s[0] and s[3] == s[1]:\n",
    "    print(f\"{s} 是回文数\")\n",
    "else:\n",
    "    print(f\"{s}不是回文数\")"
   ]
  },
  {
   "cell_type": "markdown",
   "metadata": {},
   "source": [
    "5. 把11位手机号改成138 1234 5678格式输出"
   ]
  },
  {
   "cell_type": "code",
   "execution_count": 24,
   "metadata": {},
   "outputs": [
    {
     "name": "stdout",
     "output_type": "stream",
     "text": [
      "138 1234 5678\n"
     ]
    }
   ],
   "source": [
    "tel_number = '13812345678'\n",
    "final_s = f\"{tel_number[:3]} {tel_number[3:7]} {tel_number[7:]}\"\n",
    "print(final_s)"
   ]
  },
  {
   "cell_type": "markdown",
   "metadata": {},
   "source": [
    "6. 从字符串“1-2-3-4-5”中提取数字，并将它们拼接为一个新的字符串，每个数字用逗号分隔，并打印结果。\n"
   ]
  },
  {
   "cell_type": "code",
   "execution_count": 27,
   "metadata": {},
   "outputs": [
    {
     "name": "stdout",
     "output_type": "stream",
     "text": [
      "1,2,3,4,5\n"
     ]
    }
   ],
   "source": [
    "s = '1-2-3-4-5'\n",
    "s = s.replace('-', ',')\n",
    "# s = ','.join(s)\n",
    "print(s)"
   ]
  },
  {
   "cell_type": "code",
   "execution_count": 29,
   "metadata": {},
   "outputs": [
    {
     "name": "stdout",
     "output_type": "stream",
     "text": [
      "\n",
      "   *\n",
      "  ***\n",
      " *****\n",
      "*******\n",
      " *****\n",
      "  ***\n",
      "   *\n",
      "\n"
     ]
    }
   ],
   "source": [
    "print('''\n",
    "   *\n",
    "  ***\n",
    " *****\n",
    "*******\n",
    " *****\n",
    "  ***\n",
    "   *\n",
    "''')"
   ]
  },
  {
   "cell_type": "code",
   "execution_count": 34,
   "metadata": {},
   "outputs": [
    {
     "name": "stdout",
     "output_type": "stream",
     "text": [
      "    \n",
      "   **\n",
      "  ****\n",
      " ******\n",
      "********\n",
      " ******\n",
      "  ****\n",
      "   **\n"
     ]
    }
   ],
   "source": [
    "rows = 8\n",
    "for i in range(rows):\n",
    "    space = abs(rows // 2 - i)\n",
    "    star = rows - 2 * space\n",
    "    print(f\"{' ' * space}{'*' * star}\")\n",
    "    # i:        0,1,2,3,4,5,6\n",
    "    # space:    3,2,1,0,1,2,3\n",
    "    # star:     1,3,5,7,5,3,1\n",
    "\n"
   ]
  }
 ],
 "metadata": {
  "kernelspec": {
   "display_name": "Python 3",
   "language": "python",
   "name": "python3"
  },
  "language_info": {
   "codemirror_mode": {
    "name": "ipython",
    "version": 3
   },
   "file_extension": ".py",
   "mimetype": "text/x-python",
   "name": "python",
   "nbconvert_exporter": "python",
   "pygments_lexer": "ipython3",
   "version": "3.11.4"
  },
  "orig_nbformat": 4
 },
 "nbformat": 4,
 "nbformat_minor": 2
}
